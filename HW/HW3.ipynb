{
 "cells": [
  {
   "cell_type": "code",
   "execution_count": 20,
   "metadata": {},
   "outputs": [],
   "source": [
    "import requests\n",
    "from bs4 import BeautifulSoup"
   ]
  },
  {
   "cell_type": "code",
   "execution_count": 21,
   "metadata": {
    "collapsed": true
   },
   "outputs": [],
   "source": [
    "url = \"https://news.cnyes.com/news/id/3967663\"\n",
    "r = requests.get(url)\n",
    "r.encoding = \"UTF-8\"\n",
    "\n",
    "soup = BeautifulSoup(r.text, \"lxml\")\n",
    "news_text = soup.findAll('div', {\"itemprop\":\"articleBody\"})[0].text"
   ]
  },
  {
   "cell_type": "code",
   "execution_count": 22,
   "metadata": {
    "collapsed": true
   },
   "outputs": [],
   "source": [
    "news_summary = soup.select(\"p\")[0].text\n"
   ]
  },
  {
   "cell_type": "code",
   "execution_count": 23,
   "metadata": {},
   "outputs": [
    {
     "name": "stdout",
     "output_type": "stream",
     "text": [
      "Requirement already satisfied: jieba in c:\\programdata\\anaconda3\\lib\\site-packages\n"
     ]
    }
   ],
   "source": [
    "!pip install jieba\n",
    "import jieba\n",
    "import jieba.analyse"
   ]
  },
  {
   "cell_type": "code",
   "execution_count": 36,
   "metadata": {},
   "outputs": [
    {
     "name": "stderr",
     "output_type": "stream",
     "text": [
      "Building prefix dict from C:\\Users\\Administrator\\PythonHW\\PythonHW\\HW3\\dict.txt.big ...\n",
      "Loading model from cache C:\\Users\\ADMINI~1\\AppData\\Local\\Temp\\jieba.uf17cbac4d699584f7da07924612ef63c.cache\n",
      "Loading model cost 1.281 seconds.\n",
      "Prefix dict has been built succesfully.\n"
     ]
    },
    {
     "name": "stdout",
     "output_type": "stream",
     "text": [
      "沃爾瑪/ 預期/ 銷售/ 增長/ 同店/ 當季/ 電商/ 億美元/ 亞馬遜/ 市場\n"
     ]
    }
   ],
   "source": [
    "jieba.set_dictionary('dict.txt.big')\n",
    "\n",
    "keywords = jieba.analyse.extract_tags(news_text, topK=10, withWeight=False)\n",
    "\n",
    "print (\"/ \".join(keywords))\n"
   ]
  },
  {
   "cell_type": "code",
   "execution_count": 37,
   "metadata": {},
   "outputs": [
    {
     "name": "stdout",
     "output_type": "stream",
     "text": [
      "[('沃爾瑪', 0.6053046836911392), ('預期', 0.3530943988198312), ('銷售', 0.3026523418455696), ('增長', 0.3026523418455696), ('同店', 0.25221028487130803), ('當季', 0.2017682278970464), ('電商', 0.2017682278970464), ('億美元', 0.2017682278970464), ('亞馬遜', 0.1513261709227848), ('市場', 0.1513261709227848)]\n"
     ]
    }
   ],
   "source": [
    "print (repr(jieba.analyse.extract_tags(news_text, topK=10, withWeight=True)))\n"
   ]
  },
  {
   "cell_type": "code",
   "execution_count": 38,
   "metadata": {},
   "outputs": [
    {
     "name": "stdout",
     "output_type": "stream",
     "text": [
      "[('同店', 1.0), ('可能', 0.6092677014758107), ('霸主', 0.5076669179483132), ('大漲', 0.5068020045910113), ('認為', 0.47724134766048776), ('表示', 0.4757382987647502), ('財報', 0.4728955825330167), ('公布', 0.46879465061507813), ('削弱', 0.46554577587868895), ('季度', 0.4644723373148818)]\n"
     ]
    }
   ],
   "source": [
    "print (repr(jieba.analyse.textrank(news_text, topK=10, withWeight=True)))\n"
   ]
  },
  {
   "cell_type": "code",
   "execution_count": 39,
   "metadata": {},
   "outputs": [
    {
     "data": {
      "text/plain": [
       "12"
      ]
     },
     "execution_count": 39,
     "metadata": {},
     "output_type": "execute_result"
    }
   ],
   "source": [
    "def index_of_keyword(sentences, keyword):\n",
    "    for i, s in enumerate(sentences):\n",
    "        if keyword in s:\n",
    "              return i\n",
    "    return -1\n",
    "\n",
    "sentences = news_text.replace(\"\\n\",\"\").split(u\"。\")\n",
    "len(sentences)"
   ]
  },
  {
   "cell_type": "code",
   "execution_count": 40,
   "metadata": {},
   "outputs": [
    {
     "name": "stdout",
     "output_type": "stream",
     "text": [
      "沃爾瑪上調明年全年盈利預期；三季度全美同店銷售連續第 17 個季度增長，增速是約八年來最快；當季電商業務商品交易總額（GMV）大增 54%，這被認為是沃爾瑪可能在削弱亞馬遜電商領域霸主地位的信號。\n",
      "在本國主場，緊緊追趕亞馬遜的沃爾瑪創造了金融危機結束後的最快銷售增長。\n",
      "本周四沃爾瑪公布財報顯示，今年第三季非美國通用會計原則（Non-GAAP）每股收益 1 美元，高於市場預期的 0.97 美元；當季整體營業收入 1232 億美元，年增增長 4.2%，市場預期 1211 億美元。\n",
      "值得一提的是，第三季沃爾瑪剔除燃料的全美同店銷售增長 2.7%，連續第 17 個季度增長，高於市場預期增速 1.7%。\n",
      "沃爾瑪首席財務官 Brett Biggs 在財報公布後表示，當季美國市場同店銷售增長為約八年來最強勁。\n",
      "而且三季度沃爾瑪電商業務的商品交易總額（GMV）大增 54%，成為當季同店銷售大漲的一大推手。\n",
      "美國媒體認為，這可能是沃爾瑪在削弱亞馬遜在電商領域霸主地位的信號。\n",
      "展望四季度，沃爾瑪顯得更樂觀，將今年全年每股收益預期指引範圍上調至 4.38-4.46 美元，華爾街對沃爾瑪的全年盈利預期處於這一預測範圍的低端：4.38 美元。\n",
      "此外，第三季一次性項目對沃爾瑪有明顯影響。\n",
      "第三季肆虐美國的颶風讓同店銷售提高了 30 到 50 個基點，但在回購已發行債券和美國政府調查賄賂相關費用等因素影響下，GAAP 下每股收益 0.58 美元，合併後凈利潤從一年前的 30.3 億美元降至 17.5 億美元。\n",
      "總體優於華爾街預期的第三季財報數據公布後，沃爾瑪股價本周四盤前漲幅一度接近 6%，開盤後高開高走，盤初漲幅一度達到 6.8%。\n",
      "新聞來源／華爾街見聞。\n"
     ]
    }
   ],
   "source": [
    "for sentence in sentences:\n",
    "    print (sentence + u\"。\")"
   ]
  },
  {
   "cell_type": "code",
   "execution_count": 41,
   "metadata": {},
   "outputs": [
    {
     "data": {
      "text/plain": [
       "2"
      ]
     },
     "execution_count": 41,
     "metadata": {},
     "output_type": "execute_result"
    }
   ],
   "source": [
    "index_of_keyword(sentences,u\"財報\")\n"
   ]
  },
  {
   "cell_type": "code",
   "execution_count": 43,
   "metadata": {},
   "outputs": [
    {
     "name": "stdout",
     "output_type": "stream",
     "text": [
      "本周四沃爾瑪公布財報顯示，今年第三季非美國通用會計原則（Non-GAAP）每股收益 1 美元，高於市場預期的 0.97 美元；當季整體營業收入 1232 億美元，年增增長 4.2%，市場預期 1211 億美元。\n"
     ]
    }
   ],
   "source": [
    "print (sentences[index_of_keyword(sentences,u\"財報\")]+u\"。\")\n"
   ]
  },
  {
   "cell_type": "code",
   "execution_count": 44,
   "metadata": {},
   "outputs": [
    {
     "data": {
      "text/plain": [
       "97"
      ]
     },
     "execution_count": 44,
     "metadata": {},
     "output_type": "execute_result"
    }
   ],
   "source": [
    "len(sentences[0])\n"
   ]
  },
  {
   "cell_type": "code",
   "execution_count": 45,
   "metadata": {
    "collapsed": true
   },
   "outputs": [],
   "source": [
    "\n",
    "s_index = []\n",
    "for keyword in keywords[:3]:\n",
    "    s_index.append(index_of_keyword(sentences,keyword))\n",
    "\n",
    "s_set = set(s_index)\n",
    "s_index = list(s_set)\n",
    "summary = \"\"\n",
    "for i in s_index:\n",
    "    summary += sentences[i]+u\"。\""
   ]
  },
  {
   "cell_type": "code",
   "execution_count": 46,
   "metadata": {},
   "outputs": [
    {
     "name": "stdout",
     "output_type": "stream",
     "text": [
      "沃爾瑪上調明年全年盈利預期；三季度全美同店銷售連續第 17 個季度增長，增速是約八年來最快；當季電商業務商品交易總額（GMV）大增 54%，這被認為是沃爾瑪可能在削弱亞馬遜電商領域霸主地位的信號。\n"
     ]
    }
   ],
   "source": [
    "print (summary)\n"
   ]
  },
  {
   "cell_type": "code",
   "execution_count": 47,
   "metadata": {},
   "outputs": [
    {
     "name": "stdout",
     "output_type": "stream",
     "text": [
      "沃爾瑪上調明年全年盈利預期；三季度全美同店銷售連續第 17 個季度增長，增速是約八年來最快；當季電商業務商品交易總額（GMV）大增 54%，這被認為是沃爾瑪可能在削弱亞馬遜電商領域霸主地位的信號。\n"
     ]
    }
   ],
   "source": [
    "print (news_summary)\n"
   ]
  },
  {
   "cell_type": "code",
   "execution_count": null,
   "metadata": {
    "collapsed": true
   },
   "outputs": [],
   "source": []
  },
  {
   "cell_type": "code",
   "execution_count": null,
   "metadata": {
    "collapsed": true
   },
   "outputs": [],
   "source": []
  }
 ],
 "metadata": {
  "kernelspec": {
   "display_name": "Python 3",
   "language": "python",
   "name": "python3"
  },
  "language_info": {
   "codemirror_mode": {
    "name": "ipython",
    "version": 3
   },
   "file_extension": ".py",
   "mimetype": "text/x-python",
   "name": "python",
   "nbconvert_exporter": "python",
   "pygments_lexer": "ipython3",
   "version": "3.6.1"
  }
 },
 "nbformat": 4,
 "nbformat_minor": 2
}
