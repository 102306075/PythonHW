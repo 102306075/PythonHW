{
 "cells": [
  {
   "cell_type": "code",
   "execution_count": 8,
   "metadata": {
    "collapsed": true
   },
   "outputs": [],
   "source": [
    "#載入module os\n",
    "import os"
   ]
  },
  {
   "cell_type": "code",
   "execution_count": 9,
   "metadata": {
    "collapsed": true
   },
   "outputs": [],
   "source": [
    "#定義function main \n",
    "def main(): \n",
    "    print('Hello world!')\n",
    "    print(\"This is Alice's greeting\")\n",
    "#\\ \n",
    "    print('this Bob\\'s greeting.')\n",
    "#呼叫function foo 參數為5,10\n",
    "    foo(5, 10)\n",
    "#重複字串\"=\"10次\n",
    "    print('=' * 10)\n",
    "#getcwd(): 顯示現在的工作資料夾\n",
    "    print(\"Current working directory is \" + os.getcwd())\n",
    "#變數名稱:counter\n",
    "#值:0\n",
    "    counter = 0\n",
    "#counter = counter + 1 \n",
    "    counter += 1\n",
    "#list ,food[1]=apples\n",
    "    food = ['apples', 'oranges', 'cats']\n",
    "    print(food[1])\n",
    "#迴圈 \n",
    "    for i in food:\n",
    "        print('i like to eat ' + i)\n",
    "#i like to eat food[i]\n",
    "    print('Count to ten')\n",
    "#第一個數從0開始，\n",
    "    for i in range(10):\n",
    "        print(i)\n",
    "\n"
   ]
  },
  {
   "cell_type": "code",
   "execution_count": 10,
   "metadata": {},
   "outputs": [
    {
     "name": "stdout",
     "output_type": "stream",
     "text": [
      "Hello world!\n",
      "This is Alice's greeting\n",
      "this Bob's greeting.\n",
      "5 plus 10 is equal to 15\n",
      "foo\n",
      "==========\n",
      "Current working directory is C:\\Users\\Administrator\\PythonHW\\PythonHW\n",
      "oranges\n",
      "i like to eat apples\n",
      "i like to eat oranges\n",
      "i like to eat cats\n",
      "Count to ten\n",
      "0\n",
      "1\n",
      "2\n",
      "3\n",
      "4\n",
      "5\n",
      "6\n",
      "7\n",
      "8\n",
      "9\n"
     ]
    }
   ],
   "source": [
    "#定義上述使用的foo function \n",
    "def foo(param1, secondParam):\n",
    "    res = param1+ secondParam\n",
    "    #%s: 字串格式化\n",
    "    print('%s plus %s is equal to %s' %(param1,secondParam,res))\n",
    "    if res < 50:\n",
    "        print('foo')\n",
    "        #else if \n",
    "    elif (res>=50) and ((param1==42) or (secondParam==24)):\n",
    "        print('bar')\n",
    "    else:\n",
    "        print('moo')\n",
    "    return res\n",
    "#一行註解\n",
    "'''多行註解\n",
    "2\n",
    "3\n",
    "'''\n",
    "\n",
    "if __name__=='__main__':\n",
    "    main()"
   ]
  },
  {
   "cell_type": "code",
   "execution_count": null,
   "metadata": {
    "collapsed": true
   },
   "outputs": [],
   "source": []
  },
  {
   "cell_type": "code",
   "execution_count": null,
   "metadata": {
    "collapsed": true
   },
   "outputs": [],
   "source": []
  },
  {
   "cell_type": "code",
   "execution_count": null,
   "metadata": {
    "collapsed": true
   },
   "outputs": [],
   "source": []
  }
 ],
 "metadata": {
  "kernelspec": {
   "display_name": "Python 3",
   "language": "python",
   "name": "python3"
  },
  "language_info": {
   "codemirror_mode": {
    "name": "ipython",
    "version": 3
   },
   "file_extension": ".py",
   "mimetype": "text/x-python",
   "name": "python",
   "nbconvert_exporter": "python",
   "pygments_lexer": "ipython3",
   "version": "3.6.1"
  }
 },
 "nbformat": 4,
 "nbformat_minor": 2
}
